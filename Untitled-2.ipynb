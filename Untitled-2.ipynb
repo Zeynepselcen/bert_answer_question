{
 "cells": [
  {
   "cell_type": "code",
   "execution_count": 1,
   "metadata": {},
   "outputs": [
    {
     "name": "stderr",
     "output_type": "stream",
     "text": [
      "Some weights of the model checkpoint at bert-large-uncased-whole-word-masking-finetuned-squad were not used when initializing BertForQuestionAnswering: ['bert.pooler.dense.bias', 'bert.pooler.dense.weight']\n",
      "- This IS expected if you are initializing BertForQuestionAnswering from the checkpoint of a model trained on another task or with another architecture (e.g. initializing a BertForSequenceClassification model from a BertForPreTraining model).\n",
      "- This IS NOT expected if you are initializing BertForQuestionAnswering from the checkpoint of a model that you expect to be exactly identical (initializing a BertForSequenceClassification model from a BertForSequenceClassification model).\n",
      "2025-03-29 02:21:16.388 python[9396:473063] +[IMKClient subclass]: chose IMKClient_Modern\n",
      "2025-03-29 02:21:16.388 python[9396:473063] +[IMKInputSession subclass]: chose IMKInputSession_Modern\n"
     ]
    }
   ],
   "source": [
    "import tkinter as tk\n",
    "from tkinter import scrolledtext\n",
    "import torch\n",
    "from transformers import BertTokenizer, BertForQuestionAnswering\n",
    "\n",
    "# Modeli yükle\n",
    "model_name = \"bert-large-uncased-whole-word-masking-finetuned-squad\"\n",
    "tokenizer = BertTokenizer.from_pretrained(model_name)\n",
    "model = BertForQuestionAnswering.from_pretrained(model_name)\n",
    "\n",
    "def predict_answer():\n",
    "    context = context_text.get(\"1.0\", tk.END).strip()\n",
    "    question = question_entry.get().strip()\n",
    "\n",
    "    encoding = tokenizer.encode_plus(question, context, return_tensors=\"pt\", max_length=512, truncation=True)\n",
    "    input_ids = encoding[\"input_ids\"]\n",
    "    attention_mask = encoding[\"attention_mask\"]\n",
    "\n",
    "    with torch.no_grad():\n",
    "        start_scores, end_scores = model(input_ids, attention_mask=attention_mask, return_dict=False)\n",
    "\n",
    "    start_index = torch.argmax(start_scores, dim=1).item()\n",
    "    end_index = torch.argmax(end_scores, dim=1).item()\n",
    "    \n",
    "    answer_tokens = tokenizer.convert_ids_to_tokens(input_ids[0][start_index:end_index + 1])\n",
    "    answer = tokenizer.convert_tokens_to_string(answer_tokens)\n",
    "\n",
    "    answer_label.config(text=f\"Answer: {answer}\")\n",
    "\n",
    "# Arayüz oluştur\n",
    "root = tk.Tk()\n",
    "root.title(\"BERT Question Answering\")\n",
    "\n",
    "tk.Label(root, text=\"Context:\").pack()\n",
    "context_text = scrolledtext.ScrolledText(root, width=60, height=5)\n",
    "context_text.pack()\n",
    "\n",
    "tk.Label(root, text=\"Question:\").pack()\n",
    "question_entry = tk.Entry(root, width=60)\n",
    "question_entry.pack()\n",
    "\n",
    "tk.Button(root, text=\"Get Answer\", command=predict_answer).pack()\n",
    "answer_label = tk.Label(root, text=\"Answer: \")\n",
    "answer_label.pack()\n",
    "\n",
    "root.mainloop()\n"
   ]
  }
 ],
 "metadata": {
  "kernelspec": {
   "display_name": "base",
   "language": "python",
   "name": "python3"
  },
  "language_info": {
   "codemirror_mode": {
    "name": "ipython",
    "version": 3
   },
   "file_extension": ".py",
   "mimetype": "text/x-python",
   "name": "python",
   "nbconvert_exporter": "python",
   "pygments_lexer": "ipython3",
   "version": "3.12.7"
  }
 },
 "nbformat": 4,
 "nbformat_minor": 2
}
